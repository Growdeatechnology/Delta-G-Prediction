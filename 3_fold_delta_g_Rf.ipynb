{
 "cells": [
  {
   "cell_type": "code",
   "execution_count": 2,
   "id": "0b7c9ccc",
   "metadata": {},
   "outputs": [
    {
     "name": "stderr",
     "output_type": "stream",
     "text": [
      "2023-08-29 17:33:51.969522: E tensorflow/compiler/xla/stream_executor/cuda/cuda_dnn.cc:9498] Unable to register cuDNN factory: Attempting to register factory for plugin cuDNN when one has already been registered\n",
      "2023-08-29 17:33:51.969565: E tensorflow/compiler/xla/stream_executor/cuda/cuda_fft.cc:609] Unable to register cuFFT factory: Attempting to register factory for plugin cuFFT when one has already been registered\n",
      "2023-08-29 17:33:51.971325: E tensorflow/compiler/xla/stream_executor/cuda/cuda_blas.cc:1518] Unable to register cuBLAS factory: Attempting to register factory for plugin cuBLAS when one has already been registered\n",
      "2023-08-29 17:33:52.072474: I tensorflow/core/platform/cpu_feature_guard.cc:182] This TensorFlow binary is optimized to use available CPU instructions in performance-critical operations.\n",
      "To enable the following instructions: AVX2 FMA, in other operations, rebuild TensorFlow with the appropriate compiler flags.\n",
      "2023-08-29 17:33:52.899228: W tensorflow/compiler/tf2tensorrt/utils/py_utils.cc:38] TF-TRT Warning: Could not find TensorRT\n"
     ]
    },
    {
     "name": "stdout",
     "output_type": "stream",
     "text": [
      "WARNING:tensorflow:From /home/gdt-ws4/anaconda3/lib/python3.11/site-packages/tensorflow/python/ops/distributions/distribution.py:259: ReparameterizationType.__init__ (from tensorflow.python.ops.distributions.distribution) is deprecated and will be removed after 2019-01-01.\n",
      "Instructions for updating:\n",
      "The TensorFlow Distributions library has moved to TensorFlow Probability (https://github.com/tensorflow/probability). You should update all references to use `tfp.distributions` instead of `tf.distributions`.\n",
      "WARNING:tensorflow:From /home/gdt-ws4/anaconda3/lib/python3.11/site-packages/tensorflow/python/ops/distributions/bernoulli.py:165: RegisterKL.__init__ (from tensorflow.python.ops.distributions.kullback_leibler) is deprecated and will be removed after 2019-01-01.\n",
      "Instructions for updating:\n",
      "The TensorFlow Distributions library has moved to TensorFlow Probability (https://github.com/tensorflow/probability). You should update all references to use `tfp.distributions` instead of `tf.distributions`.\n"
     ]
    }
   ],
   "source": [
    "# from proteinbert import load_pretrained_model\n",
    "# from proteinbert.conv_and_global_attention_model import get_model_with_hidden_layers_as_outputs\n",
    "import pandas as pd\n",
    "import numpy as np\n",
    "import pandas as pd\n",
    "import numpy as np\n",
    "from tensorflow.keras.callbacks import ReduceLROnPlateau\n",
    "from sklearn.model_selection import train_test_split\n",
    "from tensorflow.keras.preprocessing.sequence import pad_sequences\n",
    "from tensorflow.keras.models import Sequential\n",
    "from tensorflow.keras.layers import Embedding, Conv1D, MaxPooling1D, Flatten, Dense, Dropout\n",
    "from sklearn.preprocessing import LabelEncoder\n",
    "import tensorflow as tf\n",
    "from tensorflow.keras.optimizers import Adam\n",
    "from sklearn.metrics import mean_squared_error, r2_score, mean_absolute_error"
   ]
  },
  {
   "cell_type": "code",
   "execution_count": 4,
   "id": "0bff47b7",
   "metadata": {},
   "outputs": [],
   "source": [
    "df = pd.read_csv('mutated.csv')"
   ]
  },
  {
   "cell_type": "code",
   "execution_count": 5,
   "id": "e7046d0a",
   "metadata": {},
   "outputs": [],
   "source": [
    "# Assuming 'df' is your DataFrame\n",
    "protein_sequences = df['mutated_sequence']\n",
    "delta_g_values = df['delta_G']\n",
    "\n",
    "# Define the amino acids and their order\n",
    "amino_acids = \"ACDEFGHIKLMNPQRSTVWY\"\n",
    "\n",
    "def one_hot_encode_sequence(sequence):\n",
    "    # Create a dictionary to map each amino acid to an index\n",
    "    aa_to_index = {aa: i for i, aa in enumerate(amino_acids)}\n",
    "    \n",
    "    # Initialize an array of zeros with the shape (sequence_length, number_of_amino_acids)\n",
    "    sequence_length = len(sequence)\n",
    "    one_hot_encoded = np.zeros((sequence_length, len(amino_acids)), dtype=int)\n",
    "    \n",
    "    # Set the appropriate index to 1 for each amino acid in the sequence\n",
    "    for i, aa in enumerate(sequence):\n",
    "        one_hot_encoded[i, aa_to_index[aa]] = 1\n",
    "    \n",
    "    return one_hot_encoded\n",
    "\n",
    "# One-hot encode all the protein sequences in the DataFrame\n",
    "import numpy as np\n",
    "from tensorflow.keras.preprocessing.sequence import pad_sequences\n",
    "\n",
    "# Assuming you have a list of one-hot encoded sequences\n",
    "encoded_sequences = [one_hot_encode_sequence(seq) for seq in protein_sequences]\n",
    "\n",
    "#Find the maximum sequence length\n",
    "max_sequence_length = max(len(seq) for seq in encoded_sequences)\n",
    "\n",
    "# Pad sequences to the maximum length\n",
    "padded_sequences = pad_sequences(encoded_sequences, maxlen=max_sequence_length, padding='post', truncating='post', dtype='float32')\n",
    "\n",
    "# Convert the padded_sequences list to a numpy array\n",
    "X = np.array(padded_sequences)\n",
    "\n",
    "# Convert the delta_g_values to a numpy array\n",
    "y = np.array(delta_g_values)\n",
    "del protein_sequences\n",
    "del delta_g_values\n",
    "del encoded_sequences\n",
    "del padded_sequences\n"
   ]
  },
  {
   "cell_type": "code",
   "execution_count": 6,
   "id": "f63086ed",
   "metadata": {},
   "outputs": [
    {
     "name": "stdout",
     "output_type": "stream",
     "text": [
      "Training data shapes: (1469, 34350, 20) (1469,)\n",
      "Validation data shapes: (207, 34350, 20) (207,)\n",
      "Test data shapes: (423, 34350, 20) (423,)\n"
     ]
    }
   ],
   "source": [
    "# Split the data into 70% training and 30% test\n",
    "X_train, X_temp, y_train, y_temp = train_test_split(X, y, test_size=0.3,random_state=42)\n",
    "\n",
    "# # Split the remaining data (30%) into 10% validation and 20% test\n",
    "X_val, X_test, y_val, y_test = train_test_split(X_temp, y_temp, test_size=0.67, random_state=42)\n",
    "\n",
    "# # Print the shapes of the datasets\n",
    "print(\"Training data shapes:\", X_train.shape, y_train.shape)\n",
    "print(\"Validation data shapes:\", X_val.shape, y_val.shape)\n",
    "print(\"Test data shapes:\", X_test.shape, y_test.shape)\n"
   ]
  },
  {
   "cell_type": "code",
   "execution_count": 7,
   "id": "09b924f3-4fc3-4b10-9b83-7c2590354114",
   "metadata": {},
   "outputs": [],
   "source": [
    "import numpy as np\n",
    "from sklearn.model_selection import KFold\n",
    "from sklearn.metrics import r2_score\n",
    "from keras.models import Sequential\n",
    "from keras.layers import Conv1D, MaxPooling1D, Flatten, Dense, Dropout\n",
    "from keras.optimizers import Adam\n",
    "from keras.callbacks import ReduceLROnPlateau"
   ]
  },
  {
   "cell_type": "code",
   "execution_count": null,
   "id": "4f6906d7-439d-4cda-8632-78740276efa0",
   "metadata": {},
   "outputs": [],
   "source": [
    "import numpy as np\n",
    "from sklearn.model_selection import KFold\n",
    "from sklearn.metrics import r2_score\n",
    "from sklearn.ensemble import RandomForestRegressor\n",
    "X_train = np.reshape(X_train, (X_train.shape[0], -1))\n",
    "y_train = np.reshape(y_train, (-1,))\n",
    "\n",
    "# Initialize lists to store R2 scores for each fold\n",
    "r2_scores = []\n",
    "mse = []\n",
    "# Create a KFold cross-validator\n",
    "num_folds = 3\n",
    "kf = KFold(n_splits=num_folds, shuffle=True, random_state=42)\n",
    "\n",
    "# Iterate through cross-validation folds\n",
    "for train_idx, val_idx in kf.split(X_train):\n",
    "    # Split the data into train and validation sets for this fold\n",
    "    X_fold_train, X_fold_val = X_train[train_idx], X_train[val_idx]\n",
    "    y_fold_train, y_fold_val = y_train[train_idx], y_train[val_idx]\n",
    "    \n",
    "    # Create a new instance of the random forest regressor for each fold\n",
    "    model = RandomForestRegressor(n_estimators=100, random_state=42)\n",
    "    \n",
    "    # Train the model on the current fold's training data\n",
    "    model.fit(X_fold_train, y_fold_train)\n",
    "    \n",
    "    # Evaluate the model on the current fold's validation data\n",
    "    y_fold_val_pred = model.predict(X_fold_val)\n",
    "    r2 = r2_score(y_fold_val, y_fold_val_pred)\n",
    "    mse_i = mean_squared_error(y_fold_val, y_fold_val_pred)\n",
    "    mse.append(mse_i)\n",
    "    r2_scores.append(r2)\n",
    "\n",
    "# Calculate the mean and standard deviation of R2 scores\n",
    "mean_r2 = np.mean(r2_scores)\n",
    "std_r2 = np.std(r2_scores)\n",
    "mse_mean = np.mean(mse)\n",
    "print(f\"Mean R2 across {num_folds} folds: {mean_r2:.4f}\")\n",
    "print(f\"Standard Deviation of R2: {std_r2:.4f}\")\n",
    "print(f\"Mean square error : {mse_mean:.4f}\")\n"
   ]
  },
  {
   "cell_type": "code",
   "execution_count": null,
   "id": "15a1ecc2-129d-4e37-a0da-65d9dd6ca3f3",
   "metadata": {},
   "outputs": [],
   "source": []
  }
 ],
 "metadata": {
  "kernelspec": {
   "display_name": "Python 3 (ipykernel)",
   "language": "python",
   "name": "python3"
  },
  "language_info": {
   "codemirror_mode": {
    "name": "ipython",
    "version": 3
   },
   "file_extension": ".py",
   "mimetype": "text/x-python",
   "name": "python",
   "nbconvert_exporter": "python",
   "pygments_lexer": "ipython3",
   "version": "3.11.3"
  }
 },
 "nbformat": 4,
 "nbformat_minor": 5
}
